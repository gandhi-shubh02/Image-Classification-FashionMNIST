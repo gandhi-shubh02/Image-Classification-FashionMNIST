{
  "nbformat": 4,
  "nbformat_minor": 0,
  "metadata": {
    "colab": {
      "name": "MNIST.ipynb",
      "provenance": [],
      "collapsed_sections": []
    },
    "kernelspec": {
      "name": "python3",
      "display_name": "Python 3"
    },
    "language_info": {
      "name": "python"
    }
  },
  "cells": [
    {
      "cell_type": "code",
      "execution_count": null,
      "metadata": {
        "id": "wvobvbudtY4S"
      },
      "outputs": [],
      "source": [
        "import numpy as np\n",
        "import pandas as pd\n",
        "import matplotlib.pyplot as plt\n",
        "from sklearn.model_selection import train_test_split\n",
        "train_df = pd.read_csv(r'fashion-mnist_train.csv')\n",
        "test_df = pd.read_csv(r'fashion-mnist_test.csv')\n",
        "\n",
        "train_df.head()"
      ]
    },
    {
      "cell_type": "code",
      "source": [
        "train_data = np.array(train_df, dtype='float32')\n",
        "test_data = np.array(test_df, dtype='float32')\n",
        "\n",
        "x_train = train_data[:, 1:] / 255\n",
        "y_train = train_data[:, 0]\n",
        "\n",
        "x_test = test_data[:, 1:] / 255\n",
        "y_test = test_data[:, 0]\n",
        "x_train, x_validate, y_train, y_validate = train_test_split(\n",
        "    x_train, y_train, test_size=0.2, random_state=12345,\n",
        ")"
      ],
      "metadata": {
        "id": "Eyq4rn3YuwLH"
      },
      "execution_count": null,
      "outputs": []
    },
    {
      "cell_type": "code",
      "source": [
        "\n",
        "image = x_train[50, :].reshape((28, 28))\n",
        "\n",
        "plt.imshow(image)\n",
        "plt.show()"
      ],
      "metadata": {
        "id": "4R82frwNu8yl"
      },
      "execution_count": null,
      "outputs": []
    },
    {
      "cell_type": "code",
      "source": [
        "import keras\n",
        "from keras.models import Sequential\n",
        "from keras.layers import Conv2D, MaxPooling2D, Dense, Flatten, Dropout\n",
        "from keras.optimizers import Adam\n",
        "from keras.callbacks import TensorBoard\n",
        "\n",
        "import numpy as np\n",
        "import pandas as pd\n",
        "import matplotlib.pyplot as plt\n",
        "from sklearn.model_selection import train_test_split\n",
        "im_rows = 28\n",
        "im_cols = 28\n",
        "batch_size = 512\n",
        "im_shape = (im_rows, im_cols, 1)\n",
        "\n",
        "x_train = x_train.reshape(x_train.shape[0], *im_shape)\n",
        "x_test = x_test.reshape(x_test.shape[0], *im_shape)\n",
        "x_validate = x_validate.reshape(x_validate.shape[0], *im_shape)\n"
      ],
      "metadata": {
        "id": "yRpKKiYhvDcG"
      },
      "execution_count": null,
      "outputs": []
    },
    {
      "cell_type": "code",
      "source": [
        "cnn_model = Sequential([\n",
        "    Conv2D(filters=32, kernel_size=3, activation='relu', input_shape=im_shape),\n",
        "    MaxPooling2D(pool_size=2),\n",
        "    Dropout(0.2),\n",
        "    \n",
        "    Flatten(),\n",
        "    Dense(32, activation='relu'),\n",
        "    Dense(10, activation='softmax')\n",
        "])"
      ],
      "metadata": {
        "id": "YOuWT442vSge"
      },
      "execution_count": null,
      "outputs": []
    },
    {
      "cell_type": "markdown",
      "source": [
        "A Simple Model"
      ],
      "metadata": {
        "id": "vch3KvuCv2Bm"
      }
    },
    {
      "cell_type": "code",
      "source": [
        "tensorboard = TensorBoard(\n",
        "    log_dir=r'logs\\{}'.format('cnn_1layer'),\n",
        "    write_graph=True,\n",
        "    write_grads=True,\n",
        "    histogram_freq=1,\n",
        "    write_images=True,\n",
        ")\n",
        "\n",
        "cnn_model.compile(\n",
        "    loss='sparse_categorical_crossentropy',\n",
        "    optimizer=Adam(lr=0.001),\n",
        "    metrics=['accuracy']\n",
        ")\n",
        "cnn_model.fit(\n",
        "    x_train, y_train, batch_size=batch_size,\n",
        "    epochs=10, verbose=1,\n",
        "    validation_data=(x_validate, y_validate),\n",
        "    callbacks=[tensorboard]\n",
        ")\n",
        "acc = cnn_model.evaluate(x_test, y_test, verbose=0)\n",
        "\n",
        "print('test loss: {:.4f}'.format(score[0]))\n",
        "print(' test acc: {:.4f}'.format(score[1]))"
      ],
      "metadata": {
        "id": "UJpQZ3T9vWJh"
      },
      "execution_count": null,
      "outputs": []
    },
    {
      "cell_type": "markdown",
      "source": [
        "A deep CNN"
      ],
      "metadata": {
        "id": "y91CvLKQv4ac"
      }
    },
    {
      "cell_type": "code",
      "source": [
        "#3 models \n",
        "\n",
        "name = '1_Layer'\n",
        "cnn_model_1 = Sequential([\n",
        "    Conv2D(32, kernel_size=3, activation='relu', input_shape=im_shape, name='Conv2D-1'),\n",
        "    MaxPooling2D(pool_size=2, name='MaxPool'),\n",
        "    Dropout(0.2, name='Dropout'),\n",
        "    Flatten(name='flatten'),\n",
        "    Dense(32, activation='relu', name='Dense'),\n",
        "    Dense(10, activation='softmax', name='Output')\n",
        "], name=name)\n",
        "\n",
        "name = '2_Layer'\n",
        "cnn_model_2 = Sequential([\n",
        "    Conv2D(32, kernel_size=3, activation='relu', input_shape=im_shape, name='Conv2D-1'),\n",
        "    MaxPooling2D(pool_size=2, name='MaxPool'),\n",
        "    Dropout(0.2, name='Dropout-1'),\n",
        "    Conv2D(64, kernel_size=3, activation='relu', name='Conv2D-2'),\n",
        "    Dropout(0.25, name='Dropout-2'),\n",
        "    Flatten(name='flatten'),\n",
        "    Dense(64, activation='relu', name='Dense'),\n",
        "    Dense(10, activation='softmax', name='Output')\n",
        "], name=name)\n",
        "\n",
        "name='3_layer'\n",
        "cnn_model_3 = Sequential([\n",
        "    Conv2D(32, kernel_size=3, activation='relu', \n",
        "           input_shape=im_shape, kernel_initializer='he_normal', name='Conv2D-1'),\n",
        "    MaxPooling2D(pool_size=2, name='MaxPool'),\n",
        "    Dropout(0.25, name='Dropout-1'),\n",
        "    Conv2D(64, kernel_size=3, activation='relu', name='Conv2D-2'),\n",
        "    Dropout(0.25, name='Dropout-2'),\n",
        "    Conv2D(128, kernel_size=3, activation='relu', name='Conv2D-3'),\n",
        "    Dropout(0.4, name='Dropout-3'),\n",
        "    Flatten(name='flatten'),\n",
        "    Dense(128, activation='relu', name='Dense'),\n",
        "    Dropout(0.4, name='Dropout'),\n",
        "    Dense(10, activation='softmax', name='Output')\n",
        "], name=name)\n",
        "\n",
        "cnn_models = [cnn_model_1, cnn_model_2, cnn_model_3]\n",
        "for model in cnn_models:\n",
        "    model.summary()"
      ],
      "metadata": {
        "id": "ih8VCsGkvfxs"
      },
      "execution_count": null,
      "outputs": []
    },
    {
      "cell_type": "markdown",
      "source": [
        "Train 3 models and store results"
      ],
      "metadata": {
        "id": "S_5BzvFPwHfj"
      }
    },
    {
      "cell_type": "code",
      "source": [
        "_mydict = {}\n",
        "\n",
        "for model in cnn_models:\n",
        "    model.compile(\n",
        "        loss='sparse_categorical_crossentropy',\n",
        "        optimizer=Adam(),\n",
        "        metrics=['accuracy']\n",
        "    )\n",
        "    \n",
        "    dicti = model.fit(\n",
        "        x_train, y_train,\n",
        "        batch_size=batch_size,\n",
        "        epochs=50, verbose=1,\n",
        "        validation_data=(x_validate, y_validate)\n",
        "    )\n",
        "    \n",
        "    _mydict[model.name] = dicti"
      ],
      "metadata": {
        "id": "gUpqaku4wGgi"
      },
      "execution_count": null,
      "outputs": []
    },
    {
      "cell_type": "markdown",
      "source": [
        "Plot"
      ],
      "metadata": {
        "id": "45IzHxEEwVN-"
      }
    },
    {
      "cell_type": "code",
      "source": [
        "fig, (ax1, ax2) = plt.subplots(2, figsize=(8, 6))\n",
        "\n",
        "for history in history_dict:\n",
        "    val_acc = _mydict[dicti].dicti['val_acc']\n",
        "    val_loss =_mydict[history].dicti['val_loss']\n",
        "    ax1.plot(val_acc, label=dicti)\n",
        "    ax2.plot(val_loss, label=dicti)\n",
        "    \n",
        "ax1.set_ylabel('validation accuracy')\n",
        "ax2.set_ylabel('validation loss')\n",
        "ax2.set_xlabel('epochs')\n",
        "ax1.legend()\n",
        "ax2.legend()\n",
        "plt.show()"
      ],
      "metadata": {
        "id": "X1S97dHrwUjO"
      },
      "execution_count": null,
      "outputs": []
    }
  ]
}